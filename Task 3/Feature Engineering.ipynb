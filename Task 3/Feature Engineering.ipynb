{
 "cells": [
  {
   "cell_type": "code",
   "execution_count": 1,
   "id": "1b903486-b398-48e4-8564-ce05017d5dd9",
   "metadata": {},
   "outputs": [],
   "source": [
    "import pandas as pd\n",
    "import numpy as np"
   ]
  },
  {
   "cell_type": "code",
   "execution_count": 3,
   "id": "e7bbf999-86f0-4fc0-8371-eca8bc4add8c",
   "metadata": {},
   "outputs": [],
   "source": [
    "clean_data_path = 'clean_data_after_eda.csv'  \n",
    "price_data_path = 'price_data.csv'  "
   ]
  },
  {
   "cell_type": "code",
   "execution_count": 5,
   "id": "a00d2791-8845-4d02-9e39-093942989b2e",
   "metadata": {},
   "outputs": [],
   "source": [
    "df_clean = pd.read_csv(clean_data_path)\n",
    "df_price = pd.read_csv(price_data_path)"
   ]
  },
  {
   "cell_type": "code",
   "execution_count": 7,
   "id": "e3de4724-b051-419d-8a1f-17f775eae13d",
   "metadata": {},
   "outputs": [],
   "source": [
    "date_columns = ['date_activ', 'date_end', 'date_modif_prod', 'date_renewal']\n",
    "for col in date_columns:\n",
    "    df_clean[col] = pd.to_datetime(df_clean[col], errors='coerce')"
   ]
  },
  {
   "cell_type": "code",
   "execution_count": 25,
   "id": "3b7fbc5d-80f1-427d-88cb-4df1c09d9ea8",
   "metadata": {},
   "outputs": [
    {
     "data": {
      "text/plain": [
       "Index(['id', 'price_date', 'price_off_peak_var', 'price_peak_var',\n",
       "       'price_mid_peak_var', 'price_off_peak_fix', 'price_peak_fix',\n",
       "       'price_mid_peak_fix', 'price_year', 'price_month'],\n",
       "      dtype='object')"
      ]
     },
     "execution_count": 25,
     "metadata": {},
     "output_type": "execute_result"
    }
   ],
   "source": [
    "df_price.columns"
   ]
  },
  {
   "cell_type": "code",
   "execution_count": 9,
   "id": "118176e2-24ec-4287-822c-01a6ae705c45",
   "metadata": {},
   "outputs": [],
   "source": [
    "df_clean['contract_duration_days'] = (df_clean['date_end'] - df_clean['date_activ']).dt.days\n",
    "df_clean['time_since_last_modif'] = (pd.to_datetime('today') - df_clean['date_modif_prod']).dt.days\n",
    "df_clean['days_until_renewal'] = (df_clean['date_renewal'] - pd.to_datetime('today')).dt.days"
   ]
  },
  {
   "cell_type": "code",
   "execution_count": 11,
   "id": "8472742b-1c6d-46a4-8149-1402bd292e8a",
   "metadata": {},
   "outputs": [],
   "source": [
    "df_price['price_date'] = pd.to_datetime(df_price['price_date'], errors='coerce')"
   ]
  },
  {
   "cell_type": "code",
   "execution_count": 13,
   "id": "87552f95-810d-47b2-ac22-02b727b50215",
   "metadata": {},
   "outputs": [],
   "source": [
    "df_price['price_year'] = df_price['price_date'].dt.year\n",
    "df_price['price_month'] = df_price['price_date'].dt.month"
   ]
  },
  {
   "cell_type": "code",
   "execution_count": 15,
   "id": "3b78f3ef-6f3d-4614-add2-6618c98705cb",
   "metadata": {},
   "outputs": [],
   "source": [
    "df_price_agg = df_price.groupby('id').agg({\n",
    "    'price_off_peak_var': 'mean',\n",
    "    'price_peak_var': 'mean',\n",
    "    'price_mid_peak_var': 'mean',\n",
    "    'price_off_peak_fix': 'mean',\n",
    "    'price_peak_fix': 'mean',\n",
    "    'price_mid_peak_fix': 'mean'\n",
    "}).reset_index()"
   ]
  },
  {
   "cell_type": "code",
   "execution_count": 17,
   "id": "ff69cf4e-c5eb-43f8-a564-1d7aec74895a",
   "metadata": {},
   "outputs": [],
   "source": [
    "df_clean = pd.merge(df_clean, df_price_agg, on='id', how='left')"
   ]
  },
  {
   "cell_type": "code",
   "execution_count": 19,
   "id": "b289fd6d-6062-4e0e-88e9-b6ed6df60131",
   "metadata": {},
   "outputs": [],
   "source": [
    "df_clean['estimated_annual_cost'] = df_clean['cons_12m'] * df_clean['forecast_price_energy_off_peak']"
   ]
  },
  {
   "cell_type": "code",
   "execution_count": 21,
   "id": "f0fdbd07-49aa-481c-be1f-561c5a985ab5",
   "metadata": {},
   "outputs": [
    {
     "name": "stdout",
     "output_type": "stream",
     "text": [
      "                                 id                     channel_sales  \\\n",
      "0  24011ae4ebbe3035111d65fa7c15bc57  foosdfpfkusacimwkcsosbicdxkicaua   \n",
      "1  d29c2c54acc38ff3c0614d0a653813dd                           MISSING   \n",
      "2  764c75f661154dac3a6c254cd082ea7d  foosdfpfkusacimwkcsosbicdxkicaua   \n",
      "3  bba03439a292a1e166f80264c16191cb  lmkebamcaaclubfxadlmueccxoimlema   \n",
      "4  149d57cf92fc41cf94415803a877cb4b                           MISSING   \n",
      "\n",
      "   cons_12m  cons_gas_12m  cons_last_month date_activ   date_end  \\\n",
      "0         0         54946                0 2013-06-15 2016-06-15   \n",
      "1      4660             0                0 2009-08-21 2016-08-30   \n",
      "2       544             0                0 2010-04-16 2016-04-16   \n",
      "3      1584             0                0 2010-03-30 2016-03-30   \n",
      "4      4425             0              526 2010-01-13 2016-03-07   \n",
      "\n",
      "  date_modif_prod date_renewal  forecast_cons_12m  ...  \\\n",
      "0      2015-11-01   2015-06-23               0.00  ...   \n",
      "1      2009-08-21   2015-08-31             189.95  ...   \n",
      "2      2010-04-16   2015-04-17              47.96  ...   \n",
      "3      2010-03-30   2015-03-31             240.04  ...   \n",
      "4      2010-01-13   2015-03-09             445.75  ...   \n",
      "\n",
      "   contract_duration_days  time_since_last_modif  days_until_renewal  \\\n",
      "0                    1096                   3231               -3363   \n",
      "1                    2566                   5494               -3294   \n",
      "2                    2192                   5256               -3430   \n",
      "3                    2192                   5273               -3447   \n",
      "4                    2245                   5349               -3469   \n",
      "\n",
      "   price_off_peak_var  price_peak_var  price_mid_peak_var price_off_peak_fix  \\\n",
      "0            0.124787        0.100749            0.066530          40.942265   \n",
      "1            0.149609        0.007124            0.000000          44.311375   \n",
      "2            0.170512        0.088421            0.000000          44.385450   \n",
      "3            0.151210        0.000000            0.000000          44.400265   \n",
      "4            0.124174        0.103638            0.072865          40.688156   \n",
      "\n",
      "   price_peak_fix  price_mid_peak_fix  estimated_annual_cost  \n",
      "0       22.352010           14.901340               0.000000  \n",
      "1        0.000000            0.000000             679.013260  \n",
      "2        0.000000            0.000000              90.191936  \n",
      "3        0.000000            0.000000             232.363296  \n",
      "4       24.412893           16.275263             517.282500  \n",
      "\n",
      "[5 rows x 54 columns]\n"
     ]
    }
   ],
   "source": [
    "print(df_clean.head())"
   ]
  },
  {
   "cell_type": "code",
   "execution_count": 23,
   "id": "3bb24b9c-d566-4cce-8e9a-f93b5028c9ac",
   "metadata": {},
   "outputs": [
    {
     "data": {
      "text/plain": [
       "Index(['id', 'channel_sales', 'cons_12m', 'cons_gas_12m', 'cons_last_month',\n",
       "       'date_activ', 'date_end', 'date_modif_prod', 'date_renewal',\n",
       "       'forecast_cons_12m', 'forecast_cons_year', 'forecast_discount_energy',\n",
       "       'forecast_meter_rent_12m', 'forecast_price_energy_off_peak',\n",
       "       'forecast_price_energy_peak', 'forecast_price_pow_off_peak', 'has_gas',\n",
       "       'imp_cons', 'margin_gross_pow_ele', 'margin_net_pow_ele', 'nb_prod_act',\n",
       "       'net_margin', 'num_years_antig', 'origin_up', 'pow_max',\n",
       "       'var_year_price_off_peak_var', 'var_year_price_peak_var',\n",
       "       'var_year_price_mid_peak_var', 'var_year_price_off_peak_fix',\n",
       "       'var_year_price_peak_fix', 'var_year_price_mid_peak_fix',\n",
       "       'var_year_price_off_peak', 'var_year_price_peak',\n",
       "       'var_year_price_mid_peak', 'var_6m_price_off_peak_var',\n",
       "       'var_6m_price_peak_var', 'var_6m_price_mid_peak_var',\n",
       "       'var_6m_price_off_peak_fix', 'var_6m_price_peak_fix',\n",
       "       'var_6m_price_mid_peak_fix', 'var_6m_price_off_peak',\n",
       "       'var_6m_price_peak', 'var_6m_price_mid_peak', 'churn',\n",
       "       'contract_duration_days', 'time_since_last_modif', 'days_until_renewal',\n",
       "       'price_off_peak_var', 'price_peak_var', 'price_mid_peak_var',\n",
       "       'price_off_peak_fix', 'price_peak_fix', 'price_mid_peak_fix',\n",
       "       'estimated_annual_cost'],\n",
       "      dtype='object')"
      ]
     },
     "execution_count": 23,
     "metadata": {},
     "output_type": "execute_result"
    }
   ],
   "source": [
    "df_clean.columns"
   ]
  },
  {
   "cell_type": "code",
   "execution_count": null,
   "id": "a641f4cb-268e-46c4-bb3a-2d8377bc7a50",
   "metadata": {},
   "outputs": [],
   "source": []
  }
 ],
 "metadata": {
  "kernelspec": {
   "display_name": "Python 3 (ipykernel)",
   "language": "python",
   "name": "python3"
  },
  "language_info": {
   "codemirror_mode": {
    "name": "ipython",
    "version": 3
   },
   "file_extension": ".py",
   "mimetype": "text/x-python",
   "name": "python",
   "nbconvert_exporter": "python",
   "pygments_lexer": "ipython3",
   "version": "3.12.4"
  }
 },
 "nbformat": 4,
 "nbformat_minor": 5
}
